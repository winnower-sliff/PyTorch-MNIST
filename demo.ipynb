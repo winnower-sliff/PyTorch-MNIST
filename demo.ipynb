{
 "cells": [
  {
   "cell_type": "code",
   "execution_count": 1,
   "id": "152f50e7-b954-42f5-bfaf-4a5bfa464a0d",
   "metadata": {},
   "outputs": [],
   "source": [
    "import math\n",
    "import torch\n",
    "import os\n",
    "\n",
    "from utils import dataLoader\n",
    "from cnn import simple_net\n",
    "\n",
    "\n",
    "DATA_PATH = './DataSets'\n",
    "MODEL_PATH = './Models'\n",
    "DEVICE = torch.device(\"cuda\" if torch.cuda.is_available() else \"cpu\")\n",
    "BATCH_SIZE = 512\n",
    "EPOCH = 40"
   ]
  },
  {
   "cell_type": "code",
   "execution_count": 2,
   "id": "d6641899-bcb7-41f1-ba00-13328c8b9ccf",
   "metadata": {},
   "outputs": [
    {
     "name": "stdout",
     "output_type": "stream",
     "text": [
      "Loading train set...\n",
      "Using  cuda\n"
     ]
    }
   ],
   "source": [
    "print('Loading train set...')\n",
    "train_set = dataLoader.loadTrain_set(DATA_PATH)\n",
    "train_data = torch.utils.data.DataLoader(\n",
    "    dataset=train_set, batch_size=BATCH_SIZE, shuffle=True)\n",
    "BATCH_NUM = math.ceil(len(train_set)/BATCH_SIZE)\n",
    "print('Using ', DEVICE)\n",
    "\n",
    "# 建立模型并载入设备\n",
    "model = simple_net.MyCNN().to(DEVICE)\n",
    "# 定义损失及优化器\n",
    "cost = torch.nn.CrossEntropyLoss()\n",
    "optimizer = torch.optim.Adam(model.parameters())"
   ]
  },
  {
   "cell_type": "code",
   "execution_count": 11,
   "id": "f5f673ec-01b7-4a67-b002-898952f232f1",
   "metadata": {},
   "outputs": [
    {
     "data": {
      "text/plain": [
       "torchvision.datasets.mnist.MNIST"
      ]
     },
     "execution_count": 11,
     "metadata": {},
     "output_type": "execute_result"
    }
   ],
   "source": [
    "type(train_set)"
   ]
  }
 ],
 "metadata": {
  "kernelspec": {
   "display_name": "Python [conda env:ptorch]",
   "language": "python",
   "name": "conda-env-ptorch-py"
  },
  "language_info": {
   "codemirror_mode": {
    "name": "ipython",
    "version": 3
   },
   "file_extension": ".py",
   "mimetype": "text/x-python",
   "name": "python",
   "nbconvert_exporter": "python",
   "pygments_lexer": "ipython3",
   "version": "3.12.7"
  }
 },
 "nbformat": 4,
 "nbformat_minor": 5
}
